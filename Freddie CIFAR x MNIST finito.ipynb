{
 "cells": [
  {
   "cell_type": "code",
   "execution_count": 1,
   "metadata": {},
   "outputs": [],
   "source": [
    "import torch\n",
    "import torch.nn as nn\n",
    "import torch.nn.functional as F\n",
    "from torch.utils.data import DataLoader\n",
    "from torchvision import datasets, transforms\n",
    "from torchvision.utils import make_grid\n",
    "\n",
    "import numpy as np\n",
    "import pandas as pd\n",
    "import seaborn as sn\n",
    "from sklearn.metrics import confusion_matrix\n",
    "import matplotlib.pyplot as plt\n",
    "%matplotlib inline"
   ]
  },
  {
   "cell_type": "code",
   "execution_count": 2,
   "metadata": {},
   "outputs": [],
   "source": [
    "transform = transforms.Compose([transforms.Lambda(lambda image: image.convert('RGB')),transforms.ToTensor()])\n",
    "\n",
    "\n",
    "train_dataM = datasets.MNIST(root='../Desktop', train=True, download=True, transform=transform)\n",
    "\n",
    "test_dataM = datasets.MNIST(root='../Desktop', train=False, download=True, transform=transform)"
   ]
  },
  {
   "cell_type": "code",
   "execution_count": 3,
   "metadata": {},
   "outputs": [
    {
     "name": "stdout",
     "output_type": "stream",
     "text": [
      "Files already downloaded and verified\n",
      "Files already downloaded and verified\n"
     ]
    }
   ],
   "source": [
    "transformC = transforms.Compose([transforms.Resize([28,28],interpolation=2),transforms.ToTensor()])\n",
    "\n",
    "train_dataC = datasets.CIFAR10(root='../Desktop', train=True, download=True, transform=transformC)\n",
    "test_dataC = datasets.CIFAR10(root='../Desktop', train=False, download=True, transform=transformC)"
   ]
  },
  {
   "cell_type": "code",
   "execution_count": 4,
   "metadata": {},
   "outputs": [
    {
     "name": "stdout",
     "output_type": "stream",
     "text": [
      "tensor([10, 11, 12, 13, 14, 15, 16, 17, 18, 19])\n"
     ]
    }
   ],
   "source": [
    "train_dataM.targets[train_dataM.targets == 0] = 10 \n",
    "train_dataM.targets[train_dataM.targets == 1] = 11\n",
    "train_dataM.targets[train_dataM.targets == 2] = 12\n",
    "train_dataM.targets[train_dataM.targets == 3] = 13\n",
    "train_dataM.targets[train_dataM.targets == 4] = 14\n",
    "train_dataM.targets[train_dataM.targets == 5] = 15\n",
    "train_dataM.targets[train_dataM.targets == 6] = 16\n",
    "train_dataM.targets[train_dataM.targets == 7] = 17\n",
    "train_dataM.targets[train_dataM.targets == 8] = 18\n",
    "train_dataM.targets[train_dataM.targets == 9] = 19\n",
    "print(train_dataM.targets.unique())"
   ]
  },
  {
   "cell_type": "code",
   "execution_count": 5,
   "metadata": {},
   "outputs": [
    {
     "name": "stdout",
     "output_type": "stream",
     "text": [
      "tensor([10, 11, 12, 13, 14, 15, 16, 17, 18, 19])\n"
     ]
    }
   ],
   "source": [
    "test_dataM.targets[test_dataM.targets == 0] = 10 \n",
    "test_dataM.targets[test_dataM.targets == 1] = 11\n",
    "test_dataM.targets[test_dataM.targets == 2] = 12\n",
    "test_dataM.targets[test_dataM.targets == 3] = 13\n",
    "test_dataM.targets[test_dataM.targets == 4] = 14\n",
    "test_dataM.targets[test_dataM.targets == 5] = 15\n",
    "test_dataM.targets[test_dataM.targets == 6] = 16\n",
    "test_dataM.targets[test_dataM.targets == 7] = 17\n",
    "test_dataM.targets[test_dataM.targets == 8] = 18\n",
    "test_dataM.targets[test_dataM.targets == 9] = 19\n",
    "print(test_dataM.targets.unique())"
   ]
  },
  {
   "cell_type": "code",
   "execution_count": 6,
   "metadata": {},
   "outputs": [
    {
     "name": "stderr",
     "output_type": "stream",
     "text": [
      "/Users/freddiebermingham/opt/anaconda3/lib/python3.8/site-packages/torchvision/datasets/mnist.py:48: UserWarning: train_labels has been renamed targets\n",
      "  warnings.warn(\"train_labels has been renamed targets\")\n"
     ]
    },
    {
     "data": {
      "text/plain": [
       "tensor([15, 10, 14,  ..., 15, 16, 18])"
      ]
     },
     "execution_count": 6,
     "metadata": {},
     "output_type": "execute_result"
    }
   ],
   "source": [
    "train_dataM.train_labels"
   ]
  },
  {
   "cell_type": "code",
   "execution_count": 7,
   "metadata": {},
   "outputs": [],
   "source": [
    "train_dataM.classes = train_dataM.targets"
   ]
  },
  {
   "cell_type": "code",
   "execution_count": 8,
   "metadata": {},
   "outputs": [],
   "source": [
    "train_data = torch.utils.data.ConcatDataset([train_dataC, train_dataM])"
   ]
  },
  {
   "cell_type": "code",
   "execution_count": 9,
   "metadata": {},
   "outputs": [],
   "source": [
    "test_data = torch.utils.data.ConcatDataset([test_dataC, test_dataM])"
   ]
  },
  {
   "cell_type": "code",
   "execution_count": 10,
   "metadata": {},
   "outputs": [
    {
     "data": {
      "text/plain": [
       "[Dataset CIFAR10\n",
       "     Number of datapoints: 50000\n",
       "     Root location: ../Desktop\n",
       "     Split: Train\n",
       "     StandardTransform\n",
       " Transform: Compose(\n",
       "                Resize(size=[28, 28], interpolation=PIL.Image.BILINEAR)\n",
       "                ToTensor()\n",
       "            ),\n",
       " Dataset MNIST\n",
       "     Number of datapoints: 60000\n",
       "     Root location: ../Desktop\n",
       "     Split: Train\n",
       "     StandardTransform\n",
       " Transform: Compose(\n",
       "                Lambda()\n",
       "                ToTensor()\n",
       "            )]"
      ]
     },
     "execution_count": 10,
     "metadata": {},
     "output_type": "execute_result"
    }
   ],
   "source": [
    "train_data.datasets"
   ]
  },
  {
   "cell_type": "code",
   "execution_count": 11,
   "metadata": {},
   "outputs": [
    {
     "data": {
      "text/plain": [
       "[Dataset CIFAR10\n",
       "     Number of datapoints: 10000\n",
       "     Root location: ../Desktop\n",
       "     Split: Test\n",
       "     StandardTransform\n",
       " Transform: Compose(\n",
       "                Resize(size=[28, 28], interpolation=PIL.Image.BILINEAR)\n",
       "                ToTensor()\n",
       "            ),\n",
       " Dataset MNIST\n",
       "     Number of datapoints: 10000\n",
       "     Root location: ../Desktop\n",
       "     Split: Test\n",
       "     StandardTransform\n",
       " Transform: Compose(\n",
       "                Lambda()\n",
       "                ToTensor()\n",
       "            )]"
      ]
     },
     "execution_count": 11,
     "metadata": {},
     "output_type": "execute_result"
    }
   ],
   "source": [
    "test_data.datasets"
   ]
  },
  {
   "cell_type": "code",
   "execution_count": 12,
   "metadata": {},
   "outputs": [],
   "source": [
    "torch.manual_seed(101)  \n",
    "\n",
    "train_loader = DataLoader(train_data, batch_size=10, shuffle=True)\n",
    "test_loader = DataLoader(test_data, batch_size=10, shuffle=False)"
   ]
  },
  {
   "cell_type": "code",
   "execution_count": 13,
   "metadata": {},
   "outputs": [],
   "source": [
    "class_names = ['plane', '  car', ' bird', '  cat', ' deer', '  dog', ' frog', 'horse', ' ship', 'truck','zero','one','two','three','four','five','six','seven','eight','nine']"
   ]
  },
  {
   "cell_type": "code",
   "execution_count": 14,
   "metadata": {},
   "outputs": [
    {
     "name": "stdout",
     "output_type": "stream",
     "text": [
      "Label: [   17     4     4    15    16     5     5     4     4     3]\n",
      "Class:  seven  deer  deer five six   dog   dog  deer  deer   cat\n"
     ]
    },
    {
     "data": {
      "image/png": "[encoded data removed]",
      "text/plain": [
       "<Figure size 720x288 with 1 Axes>"
      ]
     },
     "metadata": {
      "needs_background": "light"
     },
     "output_type": "display_data"
    }
   ],
   "source": [
    "np.set_printoptions(formatter=dict(int=lambda x: f'{x:5}'))\n",
    "\n",
    "for images,labels in train_loader: \n",
    "    break\n",
    "\n",
    "print('Label:', labels.numpy())\n",
    "print('Class: ', *np.array([class_names[i] for i in labels]))\n",
    "\n",
    "\n",
    "im = make_grid(images, nrow=5) \n",
    "plt.figure(figsize=(10,4))\n",
    "plt.imshow(np.transpose(im.numpy(), (1, 2, 0)));"
   ]
  },
  {
   "cell_type": "code",
   "execution_count": 15,
   "metadata": {},
   "outputs": [],
   "source": [
    "class ConvolutionalNetwork(nn.Module):\n",
    "    def __init__(self):\n",
    "        super().__init__()\n",
    "        self.conv1 = nn.Conv2d(3, 12, 3, 1)\n",
    "        self.conv2 = nn.Conv2d(12, 16, 3, 1)\n",
    "        self.fc1 = nn.Linear(5*5*16, 120)   \n",
    "        self.fc2 = nn.Linear(120,84)\n",
    "        self.fc3 = nn.Linear(84, 20)\n",
    "\n",
    "    def forward(self, X):\n",
    "        X = F.relu(self.conv1(X))\n",
    "        X = F.max_pool2d(X, 2, 2)\n",
    "        X = F.relu(self.conv2(X))\n",
    "        X = F.max_pool2d(X, 2, 2)\n",
    "        X = X.view(-1, 5*5*16)\n",
    "        X = F.relu(self.fc1(X))\n",
    "        X = F.relu(self.fc2(X))\n",
    "        X = self.fc3(X)\n",
    "        return F.log_softmax(X, dim=1)"
   ]
  },
  {
   "cell_type": "code",
   "execution_count": 16,
   "metadata": {},
   "outputs": [
    {
     "data": {
      "text/plain": [
       "ConvolutionalNetwork(\n",
       "  (conv1): Conv2d(3, 12, kernel_size=(3, 3), stride=(1, 1))\n",
       "  (conv2): Conv2d(12, 16, kernel_size=(3, 3), stride=(1, 1))\n",
       "  (fc1): Linear(in_features=400, out_features=120, bias=True)\n",
       "  (fc2): Linear(in_features=120, out_features=84, bias=True)\n",
       "  (fc3): Linear(in_features=84, out_features=20, bias=True)\n",
       ")"
      ]
     },
     "execution_count": 16,
     "metadata": {},
     "output_type": "execute_result"
    }
   ],
   "source": [
    "torch.manual_seed(101)\n",
    "model = ConvolutionalNetwork()\n",
    "model"
   ]
  },
  {
   "cell_type": "code",
   "execution_count": 17,
   "metadata": {},
   "outputs": [],
   "source": [
    "def count_parameters(model):\n",
    "    params = [p.numel() for p in model.parameters() if p.requires_grad]\n",
    "    for item in params:\n",
    "        print(f'{item:>6}')\n",
    "    print(f'______\\n{sum(params):>6}')"
   ]
  },
  {
   "cell_type": "code",
   "execution_count": 18,
   "metadata": {},
   "outputs": [
    {
     "name": "stdout",
     "output_type": "stream",
     "text": [
      "   324\n",
      "    12\n",
      "  1728\n",
      "    16\n",
      " 48000\n",
      "   120\n",
      " 10080\n",
      "    84\n",
      "  1680\n",
      "    20\n",
      "______\n",
      " 62064\n"
     ]
    }
   ],
   "source": [
    "count_parameters(model)"
   ]
  },
  {
   "cell_type": "code",
   "execution_count": 19,
   "metadata": {},
   "outputs": [],
   "source": [
    "criterion = nn.CrossEntropyLoss()\n",
    "optimizer = torch.optim.Adam(model.parameters(), lr=0.001)"
   ]
  },
  {
   "cell_type": "code",
   "execution_count": 20,
   "metadata": {},
   "outputs": [
    {
     "name": "stdout",
     "output_type": "stream",
     "text": [
      "epoch:  0  batch: 1000 [ 10000/50000]  loss: 0.71301407  accuracy:  54.010%\n",
      "epoch:  0  batch: 2000 [ 20000/50000]  loss: 1.70383573  accuracy:  59.755%\n",
      "epoch:  0  batch: 3000 [ 30000/50000]  loss: 1.22950685  accuracy:  62.613%\n",
      "epoch:  0  batch: 4000 [ 40000/50000]  loss: 0.80729520  accuracy:  64.552%\n",
      "epoch:  0  batch: 5000 [ 50000/50000]  loss: 0.90131617  accuracy:  65.918%\n",
      "epoch:  0  batch: 6000 [ 60000/50000]  loss: 0.95348299  accuracy:  67.108%\n",
      "epoch:  0  batch: 7000 [ 70000/50000]  loss: 0.20453377  accuracy:  68.016%\n",
      "epoch:  0  batch: 8000 [ 80000/50000]  loss: 0.05316257  accuracy:  68.730%\n",
      "epoch:  0  batch: 9000 [ 90000/50000]  loss: 0.82005757  accuracy:  69.257%\n",
      "epoch:  0  batch: 10000 [100000/50000]  loss: 0.27438265  accuracy:  69.807%\n",
      "epoch:  0  batch: 11000 [110000/50000]  loss: 0.99627149  accuracy:  70.315%\n",
      "epoch:  1  batch: 1000 [ 10000/50000]  loss: 0.30582508  accuracy:  75.840%\n",
      "epoch:  1  batch: 2000 [ 20000/50000]  loss: 1.91716075  accuracy:  76.145%\n",
      "epoch:  1  batch: 3000 [ 30000/50000]  loss: 0.66293180  accuracy:  76.167%\n",
      "epoch:  1  batch: 4000 [ 40000/50000]  loss: 0.61450672  accuracy:  76.390%\n",
      "epoch:  1  batch: 5000 [ 50000/50000]  loss: 0.42138329  accuracy:  76.566%\n",
      "epoch:  1  batch: 6000 [ 60000/50000]  loss: 0.38533393  accuracy:  76.853%\n",
      "epoch:  1  batch: 7000 [ 70000/50000]  loss: 0.53467238  accuracy:  77.004%\n",
      "epoch:  1  batch: 8000 [ 80000/50000]  loss: 0.59295660  accuracy:  77.103%\n",
      "epoch:  1  batch: 9000 [ 90000/50000]  loss: 0.39759743  accuracy:  77.237%\n",
      "epoch:  1  batch: 10000 [100000/50000]  loss: 0.31047612  accuracy:  77.360%\n",
      "epoch:  1  batch: 11000 [110000/50000]  loss: 0.59868169  accuracy:  77.405%\n",
      "epoch:  2  batch: 1000 [ 10000/50000]  loss: 0.31737173  accuracy:  79.100%\n",
      "epoch:  2  batch: 2000 [ 20000/50000]  loss: 0.58765972  accuracy:  79.220%\n",
      "epoch:  2  batch: 3000 [ 30000/50000]  loss: 0.15281156  accuracy:  79.503%\n",
      "epoch:  2  batch: 4000 [ 40000/50000]  loss: 0.91211092  accuracy:  79.480%\n",
      "epoch:  2  batch: 5000 [ 50000/50000]  loss: 0.81057823  accuracy:  79.574%\n",
      "epoch:  2  batch: 6000 [ 60000/50000]  loss: 0.64884502  accuracy:  79.710%\n",
      "epoch:  2  batch: 7000 [ 70000/50000]  loss: 0.75877130  accuracy:  79.699%\n",
      "epoch:  2  batch: 8000 [ 80000/50000]  loss: 1.21410012  accuracy:  79.705%\n",
      "epoch:  2  batch: 9000 [ 90000/50000]  loss: 0.90832013  accuracy:  79.729%\n",
      "epoch:  2  batch: 10000 [100000/50000]  loss: 0.20988932  accuracy:  79.773%\n",
      "epoch:  2  batch: 11000 [110000/50000]  loss: 0.54934961  accuracy:  79.688%\n",
      "epoch:  3  batch: 1000 [ 10000/50000]  loss: 1.01769829  accuracy:  81.280%\n",
      "epoch:  3  batch: 2000 [ 20000/50000]  loss: 0.61130214  accuracy:  81.310%\n",
      "epoch:  3  batch: 3000 [ 30000/50000]  loss: 0.60988957  accuracy:  81.123%\n",
      "epoch:  3  batch: 4000 [ 40000/50000]  loss: 0.18997277  accuracy:  81.058%\n",
      "epoch:  3  batch: 5000 [ 50000/50000]  loss: 0.79838967  accuracy:  81.008%\n",
      "epoch:  3  batch: 6000 [ 60000/50000]  loss: 0.31097537  accuracy:  81.043%\n",
      "epoch:  3  batch: 7000 [ 70000/50000]  loss: 0.76195133  accuracy:  80.956%\n",
      "epoch:  3  batch: 8000 [ 80000/50000]  loss: 1.31732726  accuracy:  80.934%\n",
      "epoch:  3  batch: 9000 [ 90000/50000]  loss: 0.47716856  accuracy:  81.006%\n",
      "epoch:  3  batch: 10000 [100000/50000]  loss: 0.44139457  accuracy:  81.042%\n",
      "epoch:  3  batch: 11000 [110000/50000]  loss: 0.97039115  accuracy:  81.081%\n",
      "epoch:  4  batch: 1000 [ 10000/50000]  loss: 0.30167884  accuracy:  83.150%\n",
      "epoch:  4  batch: 2000 [ 20000/50000]  loss: 0.78718489  accuracy:  82.405%\n",
      "epoch:  4  batch: 3000 [ 30000/50000]  loss: 0.11757188  accuracy:  82.370%\n",
      "epoch:  4  batch: 4000 [ 40000/50000]  loss: 0.68708605  accuracy:  82.150%\n",
      "epoch:  4  batch: 5000 [ 50000/50000]  loss: 0.36899963  accuracy:  81.998%\n",
      "epoch:  4  batch: 6000 [ 60000/50000]  loss: 0.31230551  accuracy:  81.940%\n",
      "epoch:  4  batch: 7000 [ 70000/50000]  loss: 0.44325528  accuracy:  81.943%\n",
      "epoch:  4  batch: 8000 [ 80000/50000]  loss: 0.73991048  accuracy:  81.980%\n",
      "epoch:  4  batch: 9000 [ 90000/50000]  loss: 0.34031647  accuracy:  81.821%\n",
      "epoch:  4  batch: 10000 [100000/50000]  loss: 0.42840800  accuracy:  81.797%\n",
      "epoch:  4  batch: 11000 [110000/50000]  loss: 0.55735314  accuracy:  81.823%\n",
      "epoch:  5  batch: 1000 [ 10000/50000]  loss: 1.10446072  accuracy:  82.600%\n",
      "epoch:  5  batch: 2000 [ 20000/50000]  loss: 1.32872236  accuracy:  82.755%\n",
      "epoch:  5  batch: 3000 [ 30000/50000]  loss: 1.72759247  accuracy:  82.883%\n",
      "epoch:  5  batch: 4000 [ 40000/50000]  loss: 0.52436650  accuracy:  82.808%\n",
      "epoch:  5  batch: 5000 [ 50000/50000]  loss: 0.35062736  accuracy:  82.732%\n",
      "epoch:  5  batch: 6000 [ 60000/50000]  loss: 0.78883839  accuracy:  82.763%\n",
      "epoch:  5  batch: 7000 [ 70000/50000]  loss: 0.48521319  accuracy:  82.716%\n",
      "epoch:  5  batch: 8000 [ 80000/50000]  loss: 0.35359889  accuracy:  82.629%\n",
      "epoch:  5  batch: 9000 [ 90000/50000]  loss: 0.44149774  accuracy:  82.628%\n",
      "epoch:  5  batch: 10000 [100000/50000]  loss: 0.68759495  accuracy:  82.579%\n",
      "epoch:  5  batch: 11000 [110000/50000]  loss: 0.97158659  accuracy:  82.542%\n",
      "epoch:  6  batch: 1000 [ 10000/50000]  loss: 0.40403533  accuracy:  83.660%\n",
      "epoch:  6  batch: 2000 [ 20000/50000]  loss: 1.95185065  accuracy:  83.725%\n",
      "epoch:  6  batch: 3000 [ 30000/50000]  loss: 0.02413608  accuracy:  83.573%\n",
      "epoch:  6  batch: 4000 [ 40000/50000]  loss: 0.11740532  accuracy:  83.627%\n",
      "epoch:  6  batch: 5000 [ 50000/50000]  loss: 0.52240622  accuracy:  83.590%\n",
      "epoch:  6  batch: 6000 [ 60000/50000]  loss: 1.24380136  accuracy:  83.510%\n",
      "epoch:  6  batch: 7000 [ 70000/50000]  loss: 0.73043388  accuracy:  83.519%\n",
      "epoch:  6  batch: 8000 [ 80000/50000]  loss: 0.36442566  accuracy:  83.406%\n",
      "epoch:  6  batch: 9000 [ 90000/50000]  loss: 0.77924156  accuracy:  83.313%\n",
      "epoch:  6  batch: 10000 [100000/50000]  loss: 0.79241979  accuracy:  83.245%\n",
      "epoch:  6  batch: 11000 [110000/50000]  loss: 0.38832480  accuracy:  83.108%\n",
      "epoch:  7  batch: 1000 [ 10000/50000]  loss: 0.40202135  accuracy:  84.030%\n",
      "epoch:  7  batch: 2000 [ 20000/50000]  loss: 0.19701934  accuracy:  83.810%\n",
      "epoch:  7  batch: 3000 [ 30000/50000]  loss: 0.42319384  accuracy:  83.877%\n",
      "epoch:  7  batch: 4000 [ 40000/50000]  loss: 0.07016855  accuracy:  83.880%\n",
      "epoch:  7  batch: 5000 [ 50000/50000]  loss: 0.31499407  accuracy:  83.902%\n",
      "epoch:  7  batch: 6000 [ 60000/50000]  loss: 0.84535247  accuracy:  83.818%\n",
      "epoch:  7  batch: 7000 [ 70000/50000]  loss: 0.33375305  accuracy:  83.787%\n",
      "epoch:  7  batch: 8000 [ 80000/50000]  loss: 0.35364839  accuracy:  83.698%\n",
      "epoch:  7  batch: 9000 [ 90000/50000]  loss: 0.28097612  accuracy:  83.699%\n",
      "epoch:  7  batch: 10000 [100000/50000]  loss: 0.96747380  accuracy:  83.649%\n",
      "epoch:  7  batch: 11000 [110000/50000]  loss: 0.46635810  accuracy:  83.582%\n",
      "epoch:  8  batch: 1000 [ 10000/50000]  loss: 0.11190794  accuracy:  84.800%\n",
      "epoch:  8  batch: 2000 [ 20000/50000]  loss: 0.03740210  accuracy:  84.835%\n",
      "epoch:  8  batch: 3000 [ 30000/50000]  loss: 0.28893721  accuracy:  84.557%\n",
      "epoch:  8  batch: 4000 [ 40000/50000]  loss: 1.49263453  accuracy:  84.335%\n",
      "epoch:  8  batch: 5000 [ 50000/50000]  loss: 0.38651344  accuracy:  84.282%\n",
      "epoch:  8  batch: 6000 [ 60000/50000]  loss: 1.02859116  accuracy:  84.140%\n",
      "epoch:  8  batch: 7000 [ 70000/50000]  loss: 0.40323901  accuracy:  84.067%\n",
      "epoch:  8  batch: 8000 [ 80000/50000]  loss: 0.51638043  accuracy:  84.006%\n",
      "epoch:  8  batch: 9000 [ 90000/50000]  loss: 0.15989181  accuracy:  83.984%\n",
      "epoch:  8  batch: 10000 [100000/50000]  loss: 0.37001348  accuracy:  83.903%\n",
      "epoch:  8  batch: 11000 [110000/50000]  loss: 0.85191983  accuracy:  83.842%\n",
      "epoch:  9  batch: 1000 [ 10000/50000]  loss: 0.69366711  accuracy:  85.610%\n",
      "epoch:  9  batch: 2000 [ 20000/50000]  loss: 0.16817501  accuracy:  84.930%\n",
      "epoch:  9  batch: 3000 [ 30000/50000]  loss: 0.41556415  accuracy:  84.690%\n",
      "epoch:  9  batch: 4000 [ 40000/50000]  loss: 0.22991696  accuracy:  84.698%\n",
      "epoch:  9  batch: 5000 [ 50000/50000]  loss: 0.34037331  accuracy:  84.572%\n",
      "epoch:  9  batch: 6000 [ 60000/50000]  loss: 0.22963989  accuracy:  84.610%\n",
      "epoch:  9  batch: 7000 [ 70000/50000]  loss: 0.97559339  accuracy:  84.510%\n",
      "epoch:  9  batch: 8000 [ 80000/50000]  loss: 0.51659334  accuracy:  84.461%\n",
      "epoch:  9  batch: 9000 [ 90000/50000]  loss: 0.39592165  accuracy:  84.401%\n"
     ]
    },
    {
     "name": "stdout",
     "output_type": "stream",
     "text": [
      "epoch:  9  batch: 10000 [100000/50000]  loss: 0.42180958  accuracy:  84.357%\n",
      "epoch:  9  batch: 11000 [110000/50000]  loss: 0.73804176  accuracy:  84.324%\n",
      "\n",
      "Duration: 1073 seconds\n"
     ]
    }
   ],
   "source": [
    "import time\n",
    "start_time = time.time()\n",
    "\n",
    "epochs = 10\n",
    "train_losses = []\n",
    "test_losses = []\n",
    "train_correct = []\n",
    "test_correct = []\n",
    "\n",
    "for i in range(epochs):\n",
    "    trn_corr = 0\n",
    "    tst_corr = 0\n",
    "    \n",
    "    # training batches\n",
    "    for b, (X_train, y_train) in enumerate(train_loader):\n",
    "        b+=1\n",
    "        \n",
    "        y_pred = model(X_train)\n",
    "        loss = criterion(y_pred, y_train)\n",
    " \n",
    "        # Tally number of correct predictions\n",
    "        predicted = torch.max(y_pred.data, 1)[1]\n",
    "        batch_corr = (predicted == y_train).sum()\n",
    "        trn_corr += batch_corr\n",
    "        \n",
    "        \n",
    "        optimizer.zero_grad()\n",
    "        loss.backward()\n",
    "        optimizer.step()\n",
    "        \n",
    "        # results\n",
    "        if b%1000 == 0:\n",
    "            print(f'epoch: {i:2}  batch: {b:4} [{10*b:6}/50000]  loss: {loss.item():10.8f}  \\\n",
    "accuracy: {trn_corr.item()*100/(10*b):7.3f}%')\n",
    "        \n",
    "    train_losses.append(loss)\n",
    "    train_correct.append(trn_corr)\n",
    "        \n",
    "    # testing batches\n",
    "    with torch.no_grad():\n",
    "        for b, (X_test, y_test) in enumerate(test_loader):\n",
    "\n",
    "            \n",
    "            y_val = model(X_test)\n",
    "\n",
    "            # Tally number of correct predictions\n",
    "            predicted = torch.max(y_val.data, 1)[1] \n",
    "            tst_corr += (predicted == y_test).sum()\n",
    "            \n",
    "    loss = criterion(y_val, y_test)\n",
    "    test_losses.append(loss)\n",
    "    test_correct.append(tst_corr)\n",
    "        \n",
    "print(f'\\nDuration: {time.time() - start_time:.0f} seconds') "
   ]
  },
  {
   "cell_type": "code",
   "execution_count": 21,
   "metadata": {},
   "outputs": [
    {
     "name": "stdout",
     "output_type": "stream",
     "text": [
      "[tensor(14596), tensor(15300), tensor(15658), tensor(15741), tensor(15766), tensor(15709), tensor(16011), tensor(15790), tensor(15853), tensor(16017)]\n",
      "\n",
      "Test accuracy: 80.085%\n"
     ]
    }
   ],
   "source": [
    "print(test_correct)\n",
    "print()\n",
    "print(f'Test accuracy: {test_correct[-1].item()*100/20000:.3f}%')"
   ]
  },
  {
   "cell_type": "code",
   "execution_count": null,
   "metadata": {},
   "outputs": [],
   "source": []
  }
 ],
 "metadata": {
  "kernelspec": {
   "display_name": "Python 3",
   "language": "python",
   "name": "python3"
  },
  "language_info": {
   "codemirror_mode": {
    "name": "ipython",
    "version": 3
   },
   "file_extension": ".py",
   "mimetype": "text/x-python",
   "name": "python",
   "nbconvert_exporter": "python",
   "pygments_lexer": "ipython3",
   "version": "3.8.3"
  }
 },
 "nbformat": 4,
 "nbformat_minor": 4
}
